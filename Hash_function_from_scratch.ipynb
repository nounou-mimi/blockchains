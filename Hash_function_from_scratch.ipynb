{
  "nbformat": 4,
  "nbformat_minor": 0,
  "metadata": {
    "colab": {
      "provenance": [],
      "authorship_tag": "ABX9TyMXbzVtpbUAQn20uKwLgEiI",
      "include_colab_link": true
    },
    "kernelspec": {
      "name": "python3",
      "display_name": "Python 3"
    },
    "language_info": {
      "name": "python"
    }
  },
  "cells": [
    {
      "cell_type": "markdown",
      "metadata": {
        "id": "view-in-github",
        "colab_type": "text"
      },
      "source": [
        "<a href=\"https://colab.research.google.com/github/nounou-mimi/blockchains/blob/main/Hash_function_from_scratch.ipynb\" target=\"_parent\"><img src=\"https://colab.research.google.com/assets/colab-badge.svg\" alt=\"Open In Colab\"/></a>"
      ]
    },
    {
      "cell_type": "markdown",
      "source": [
        "* It accepts a message  of any length\n",
        "*  It produces a fixed length message digest\n",
        "* It is easy (and therefore fast) to compute the message digest for any given message\n",
        "* The hash is irreversible – it is not possible to generate a message from its m essage digest\n",
        "*  A small change in a message should generate large changes in the message value\n",
        "* The hash is collision free, meaning it is not feasible that two different messages would result in the same hash value"
      ],
      "metadata": {
        "id": "lT4FIAjV9aar"
      }
    },
    {
      "cell_type": "code",
      "source": [
        "import math\n",
        "def divideString(s, k=8, fill='x'):\n",
        "    parts_no=math.ceil(len(s)/k)\n",
        "    result=[]\n",
        "    for l in range(parts_no):\n",
        "        s2=s[k*l:k*(l+1)]\n",
        "        if len(s2)<k:\n",
        "            to_fill=k-len(s2)\n",
        "            s2+=fill*to_fill\n",
        "        result.append(s2)\n",
        "    return(result)"
      ],
      "metadata": {
        "id": "NCaheyylT9jH"
      },
      "execution_count": 93,
      "outputs": []
    },
    {
      "cell_type": "code",
      "source": [
        "import numpy as np"
      ],
      "metadata": {
        "id": "RIDEpnGybQdo"
      },
      "execution_count": 41,
      "outputs": []
    },
    {
      "cell_type": "code",
      "source": [
        "import string\n",
        "import random\n",
        "# chars=list(string.ascii_lowercase+string.ascii_uppercase)+list(range(10))\n",
        "# random.shuffle(chars)\n",
        "# chars"
      ],
      "metadata": {
        "colab": {
          "base_uri": "https://localhost:8080/"
        },
        "id": "nXV-uYtAiXw7",
        "outputId": "a0e7d699-92ff-46ec-a600-bb1694a1451a"
      },
      "execution_count": 83,
      "outputs": [
        {
          "output_type": "execute_result",
          "data": {
            "text/plain": [
              "['L',\n",
              " 'e',\n",
              " 0,\n",
              " 'C',\n",
              " 7,\n",
              " 'D',\n",
              " 'o',\n",
              " 'y',\n",
              " 'A',\n",
              " 'Q',\n",
              " 't',\n",
              " 'z',\n",
              " 4,\n",
              " 'i',\n",
              " 'd',\n",
              " 'a',\n",
              " 'f',\n",
              " 'q',\n",
              " 'w',\n",
              " 'm',\n",
              " 'c',\n",
              " 'b',\n",
              " 'h',\n",
              " 'Y',\n",
              " 'x',\n",
              " 6,\n",
              " 'l',\n",
              " 'u',\n",
              " 5,\n",
              " 'F',\n",
              " 'R',\n",
              " 'M',\n",
              " 'P',\n",
              " 2,\n",
              " 'p',\n",
              " 'O',\n",
              " 'U',\n",
              " 'W',\n",
              " 'K',\n",
              " 'E',\n",
              " 'N',\n",
              " 'J',\n",
              " 8,\n",
              " 'B',\n",
              " 'V',\n",
              " 'g',\n",
              " 'T',\n",
              " 'Z',\n",
              " 'n',\n",
              " 'G',\n",
              " 's',\n",
              " 'X',\n",
              " 'j',\n",
              " 'H',\n",
              " 3,\n",
              " 1,\n",
              " 9,\n",
              " 'r',\n",
              " 'k',\n",
              " 'S',\n",
              " 'I',\n",
              " 'v']"
            ]
          },
          "metadata": {},
          "execution_count": 83
        }
      ]
    },
    {
      "cell_type": "code",
      "source": [
        "chars=['L',\n",
        " 'e',\n",
        " 0,\n",
        " 'C',\n",
        " 7,\n",
        " 'D',\n",
        " 'o',\n",
        " 'y',\n",
        " 'A',\n",
        " 'Q',\n",
        " 't',\n",
        " 'z',\n",
        " 4,\n",
        " 'i',\n",
        " 'd',\n",
        " 'a',\n",
        " 'f',\n",
        " 'q',\n",
        " 'w',\n",
        " 'm',\n",
        " 'c',\n",
        " 'b',\n",
        " 'h',\n",
        " 'Y',\n",
        " 'x',\n",
        " 6,\n",
        " 'l',\n",
        " 'u',\n",
        " 5,\n",
        " 'F',\n",
        " 'R',\n",
        " 'M',\n",
        " 'P',\n",
        " 2,\n",
        " 'p',\n",
        " 'O',\n",
        " 'U',\n",
        " 'W',\n",
        " 'K',\n",
        " 'E',\n",
        " 'N',\n",
        " 'J',\n",
        " 8,\n",
        " 'B',\n",
        " 'V',\n",
        " 'g',\n",
        " 'T',\n",
        " 'Z',\n",
        " 'n',\n",
        " 'G',\n",
        " 's',\n",
        " 'X',\n",
        " 'j',\n",
        " 'H',\n",
        " 3,\n",
        " 1,\n",
        " 9,\n",
        " 'r',\n",
        " 'k',\n",
        " 'S',\n",
        " 'I',\n",
        " 'v']"
      ],
      "metadata": {
        "id": "SjK993X0kddJ"
      },
      "execution_count": 84,
      "outputs": []
    },
    {
      "cell_type": "code",
      "source": [
        "def hash_nour(input):\n",
        "    parts=divideString(repr(input))\n",
        "    print(parts)\n",
        "    coded_parts=[]\n",
        "    for part in parts:\n",
        "        coded_part=\"\"\n",
        "        for i,char in enumerate(part,1):\n",
        "            char=str((i*ord(char))%127)\n",
        "            coded_part+=char.zfill(3)\n",
        "        coded_parts.append(divideString(coded_part,3))\n",
        "    \n",
        "    codes=np.asarray(coded_parts)\n",
        "    codes=codes.astype(int)\n",
        "    print(codes)\n",
        "    result=codes.sum(axis=0)%len(chars)\n",
        "    print(result)\n",
        "    hash=''.join(map(lambda x:str(chars[x]),result))\n",
        "    return hash\n"
      ],
      "metadata": {
        "id": "Gi8oVeljGkay"
      },
      "execution_count": 94,
      "outputs": []
    },
    {
      "cell_type": "code",
      "source": [
        "print(hash_nour(\"2445\"))\n",
        "hash_nour(\"2444\")"
      ],
      "metadata": {
        "colab": {
          "base_uri": "https://localhost:8080/",
          "height": 157
        },
        "id": "N03M-fCFWebk",
        "outputId": "3e014368-c735-41e0-81a1-016f322f7236"
      },
      "execution_count": 99,
      "outputs": [
        {
          "output_type": "stream",
          "name": "stdout",
          "text": [
            "[\"'2445'xx\"]\n",
            "[[ 39 100  29  81  11 107  78  71]]\n",
            "[39 38 29 19 11 45 16  9]\n",
            "EKFmzgfQ\n",
            "[\"'2444'xx\"]\n",
            "[[ 39 100  29  81   6 107  78  71]]\n",
            "[39 38 29 19  6 45 16  9]\n"
          ]
        },
        {
          "output_type": "execute_result",
          "data": {
            "text/plain": [
              "'EKFmogfQ'"
            ],
            "application/vnd.google.colaboratory.intrinsic+json": {
              "type": "string"
            }
          },
          "metadata": {},
          "execution_count": 99
        }
      ]
    }
  ]
}