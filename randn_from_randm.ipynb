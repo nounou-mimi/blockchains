{
  "nbformat": 4,
  "nbformat_minor": 0,
  "metadata": {
    "colab": {
      "provenance": [],
      "authorship_tag": "ABX9TyMuBwcByyaDMYG13dH0SKxi",
      "include_colab_link": true
    },
    "kernelspec": {
      "name": "python3",
      "display_name": "Python 3"
    },
    "language_info": {
      "name": "python"
    }
  },
  "cells": [
    {
      "cell_type": "markdown",
      "metadata": {
        "id": "view-in-github",
        "colab_type": "text"
      },
      "source": [
        "<a href=\"https://colab.research.google.com/github/nounou-mimi/blockchains/blob/main/randn_from_randm.ipynb\" target=\"_parent\"><img src=\"https://colab.research.google.com/assets/colab-badge.svg\" alt=\"Open In Colab\"/></a>"
      ]
    },
    {
      "cell_type": "markdown",
      "source": [
        "I tried to generalize the solution we discussed in class"
      ],
      "metadata": {
        "id": "3BcHrR9Du2y_"
      }
    },
    {
      "cell_type": "code",
      "source": [
        "import random\n",
        "import seaborn as sns\n",
        "import numpy as np\n",
        "\n",
        "rand5_calls=0\n",
        "def rand5():\n",
        "    global rand5_calls\n",
        "    rand5_calls+=1\n",
        "    return random.randint(1,5)\n",
        "\n",
        "def test(func):\n",
        "    l=[func() for i in range(2000)]\n",
        "    sns.histplot(l)"
      ],
      "metadata": {
        "id": "Z3gvZa59mCYR"
      },
      "execution_count": 99,
      "outputs": []
    },
    {
      "cell_type": "code",
      "source": [
        "def rand_m(m):\n",
        "    return random.randint(1,m)\n",
        "\n",
        "def test_m(func):\n",
        "    l=[func for i in range(2000)]\n",
        "    sns.histplot(l)"
      ],
      "metadata": {
        "id": "SsPMmCeyxeLc"
      },
      "execution_count": 100,
      "outputs": []
    },
    {
      "cell_type": "code",
      "source": [
        "test_m(rand_m,5)"
      ],
      "metadata": {
        "colab": {
          "base_uri": "https://localhost:8080/",
          "height": 265
        },
        "id": "lYMNR6Q2mfW4",
        "outputId": "4894eb5e-ca60-4acc-8aa2-d6b823664251"
      },
      "execution_count": 79,
      "outputs": [
        {
          "output_type": "display_data",
          "data": {
            "text/plain": [
              "<Figure size 432x288 with 1 Axes>"
            ],
            "image/png": "[encoded data removed]"
          },
          "metadata": {
            "needs_background": "light"
          }
        }
      ]
    },
    {
      "cell_type": "markdown",
      "source": [
        "##Method 1 : Rejection sampling"
      ],
      "metadata": {
        "id": "7TzmsAN-yg4d"
      }
    },
    {
      "cell_type": "code",
      "source": [
        "def rand7():\n",
        "    i = 5 * (rand5() - 1) + rand5()  #i is now uniformly random between 1 and 25\n",
        "    while(i > 21):\n",
        "        i= 5 * (rand5() - 1) + rand5()\n",
        "    return i%7 +1"
      ],
      "metadata": {
        "id": "wfk4lMIByfmF"
      },
      "execution_count": 101,
      "outputs": []
    },
    {
      "cell_type": "code",
      "source": [
        "test(rand7)"
      ],
      "metadata": {
        "id": "iJftYozTxMnd",
        "colab": {
          "base_uri": "https://localhost:8080/",
          "height": 265
        },
        "outputId": "636142ab-55f4-4c9f-a9be-f7fdc7e28e04"
      },
      "execution_count": 102,
      "outputs": [
        {
          "output_type": "display_data",
          "data": {
            "text/plain": [
              "<Figure size 432x288 with 1 Axes>"
            ],
            "image/png": "[encoded data removed]"
          },
          "metadata": {
            "needs_background": "light"
          }
        }
      ]
    },
    {
      "cell_type": "code",
      "source": [
        "rand5_calls"
      ],
      "metadata": {
        "colab": {
          "base_uri": "https://localhost:8080/"
        },
        "id": "iyx9uDJEDcj6",
        "outputId": "1020da7e-70cb-4acf-85f4-b89df6f04ef5"
      },
      "execution_count": 103,
      "outputs": [
        {
          "output_type": "execute_result",
          "data": {
            "text/plain": [
              "4820"
            ]
          },
          "metadata": {},
          "execution_count": 103
        }
      ]
    },
    {
      "cell_type": "code",
      "source": [
        "def rand3():\n",
        "    i= rand5()\n",
        "    while(i>3):\n",
        "        i=rand5()\n",
        "    return i\n",
        "test(rand3)"
      ],
      "metadata": {
        "colab": {
          "base_uri": "https://localhost:8080/",
          "height": 265
        },
        "id": "5YVZB0KLz29v",
        "outputId": "7bcf1696-665c-4b33-e8f2-44597edfcf11"
      },
      "execution_count": 85,
      "outputs": [
        {
          "output_type": "display_data",
          "data": {
            "text/plain": [
              "<Figure size 432x288 with 1 Axes>"
            ],
            "image/png": "[encoded data removed]"
          },
          "metadata": {
            "needs_background": "light"
          }
        }
      ]
    },
    {
      "cell_type": "markdown",
      "source": [
        "Generalization"
      ],
      "metadata": {
        "id": "9Xgok-mlzdyk"
      }
    },
    {
      "cell_type": "code",
      "source": [
        "def rand_n(m,n):\n",
        "    if m>n:\n",
        "        i=rand_m(m)\n",
        "        while(i>n):\n",
        "            i=rand_m(m)\n",
        "        return i\n",
        "    elif m<n:\n",
        "        i=1\n",
        "        max=n*i\n",
        "        while (max<m**2):\n",
        "            max=n*i\n",
        "            i=i+1\n",
        "        max=max-n\n",
        "        i = m * (rand_m(m) - 1) + rand_m(m)  #i is now uniformly random between 1 and m**2\n",
        "        while(i > max):\n",
        "            i = m * (rand_m(m) - 1) + rand_m(m)\n",
        "        return i%n +1\n"
      ],
      "metadata": {
        "id": "BeEPO37kzZEj"
      },
      "execution_count": 96,
      "outputs": []
    },
    {
      "cell_type": "code",
      "source": [
        "def test_m_n(func,m,n):\n",
        "    l=[func(m,n) for i in range(2000)]\n",
        "    sns.histplot(l)"
      ],
      "metadata": {
        "id": "IkHZuPcWB-31"
      },
      "execution_count": 97,
      "outputs": []
    },
    {
      "cell_type": "code",
      "source": [
        "test_m_n(rand_n,5,8)"
      ],
      "metadata": {
        "colab": {
          "base_uri": "https://localhost:8080/",
          "height": 265
        },
        "id": "G3jjPTuvBxql",
        "outputId": "8ee2b13a-54f6-4076-d2c2-7ed9a4f3c131"
      },
      "execution_count": 98,
      "outputs": [
        {
          "output_type": "display_data",
          "data": {
            "text/plain": [
              "<Figure size 432x288 with 1 Axes>"
            ],
            "image/png": "[encoded data removed]"
          },
          "metadata": {
            "needs_background": "light"
          }
        }
      ]
    }
  ]
}